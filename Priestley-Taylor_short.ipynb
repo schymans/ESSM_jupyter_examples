{
 "cells": [
  {
   "cell_type": "markdown",
   "metadata": {},
   "source": [
    "# Units mystery in the Priestley-Taylor equation \n",
    "\n",
    "Author: Stan Schymanski, stan.schymanski@datascience.ch\n",
    "\n",
    "In this worksheet, we explore the famous Priestley-Taylor equation (Priestley and Taylor, 1972) using the Environmental Science for SageMath (essm) package, downloadable from https://github.com/environmentalscience/essm."
   ]
  },
  {
   "cell_type": "code",
   "execution_count": 1,
   "metadata": {
    "collapsed": true
   },
   "outputs": [],
   "source": [
    "from IPython.display import display, Math\n",
    "\n",
    "from essm.equations import Equation\n",
    "from essm.variables import Variable\n",
    "from essm.variables.utils import generate_metadata_table\n",
    "from essm.variables.units import markdown, joule, kelvin, kilogram, meter, pascal, second"
   ]
  },
  {
   "cell_type": "markdown",
   "metadata": {},
   "source": [
    "Below, we use essm `Variable` class to define relevant variables used in the paper by Priestley and Taylor. Since units were not provided in the paper, we assume standard SI units for each variable. Since $q_s$ was referred to as specific humidity at saturation by Priestley and Taylor (1972), we assume units of kg m$^{-3}$. Consequently, since $s=\\partial q_s/\\partial T$, the units of $s$ are assumed to be kg m$^{-3}$ K$^{-1}$."
   ]
  },
  {
   "cell_type": "code",
   "execution_count": 2,
   "metadata": {},
   "outputs": [],
   "source": [
    "# Import standard variables from physics module\n",
    "from essm.variables.physics.thermodynamics import lambda_E, c_pa\n",
    "\n",
    "# Define custom variables\n",
    "class E_w(Variable):\n",
    "    \"\"\"Wet surface evaporation\n",
    "    (E in Priestley and Taylor, 1972))\n",
    "    \"\"\"\n",
    "    unit = kilogram/meter^2/second\n",
    "    latex_name = 'E'\n",
    "    \n",
    "class H_w(Variable):\n",
    "    \"\"\"Wet surface sensible heat flux (positive outwards)\"\"\"\n",
    "    unit = joule/second/meter^2\n",
    "    latex_name = 'H'\n",
    "      \n",
    "class q_a(Variable):\n",
    "    \"\"\"Specific humidity\"\"\"\n",
    "    unit = kilogram/meter^3\n",
    "    \n",
    "class q_s(Variable):\n",
    "    \"\"\"Specific humidity at saturation\"\"\"\n",
    "    unit = kilogram/meter^3\n",
    "    \n",
    "class T(Variable):\n",
    "    \"\"\"Temperature\"\"\"\n",
    "    unit = kelvin \n",
    "    \n",
    "class s_PT(Variable):\n",
    "    \"\"\"Priestley-Taylor $\\partial q_s/\\partial T$\"\"\"\n",
    "    unit = kilogram/meter^3/kelvin\n",
    "    latex_name = 's'\n",
    "\n",
    "# Re-define `lambda_E` as `L_E` to have the same latex representation as in the paper\n",
    "class L_E(lambda_E.definition):\n",
    "    \"\"\"Latent heat\"\"\"   \n",
    "    latex_name = 'L'\n",
    "    default = lambda_E.definition.default\n",
    "    unit = lambda_E.definition.unit\n",
    "    \n",
    "# Define `gamma_PT = c_pa/L_E` as in the paper\n",
    "class gamma_PT(Variable):\n",
    "    \"\"\"Priestley-Taylor $\\gamma$\"\"\"\n",
    "    expr = c_pa/L_E\n",
    "    latex_name = r'\\gamma'"
   ]
  },
  {
   "cell_type": "markdown",
   "metadata": {},
   "source": [
    "In the above, we defined the variable $\\gamma$ exactly in the same way as in Priestley and Taylor (1972), i.e. $\\gamma = c_p/L$, and called the variable `gamma_PT`."
   ]
  },
  {
   "cell_type": "code",
   "execution_count": 3,
   "metadata": {},
   "outputs": [
    {
     "data": {
      "text/html": [
       "<div class=\"notruncate\">\n",
       "<table  class=\"table_form\">\n",
       "<tbody>\n",
       "<tr class =\"row-a\">\n",
       "<td>Symbol</td>\n",
       "<td>Name</td>\n",
       "<td>Description</td>\n",
       "<td>Default value</td>\n",
       "<td>Units</td>\n",
       "</tr>\n",
       "<tr class =\"row-b\">\n",
       "<td><script type=\"math/tex\">{\\gamma}</script></td>\n",
       "<td>gamma_PT</td>\n",
       "<td>Priestley-Taylor <script type=\"math/tex\">\\gamma</script></td>\n",
       "<td>-</td>\n",
       "<td> K <script type=\"math/tex\">^{-1 }</script> </td>\n",
       "</tr>\n",
       "<tr class =\"row-a\">\n",
       "<td><script type=\"math/tex\">{c_{pa}}</script></td>\n",
       "<td>c_pa</td>\n",
       "<td>Specific heat of dry air.</td>\n",
       "<td>1010.0</td>\n",
       "<td>J  K <script type=\"math/tex\">^{-1 }</script>  kg <script type=\"math/tex\">^{-1 }</script> </td>\n",
       "</tr>\n",
       "<tr class =\"row-b\">\n",
       "<td><script type=\"math/tex\">{E}</script></td>\n",
       "<td>E_w</td>\n",
       "<td>Wet surface evaporation\n",
       "    (E in Priestley and Taylor, 1972))\n",
       "    </td>\n",
       "<td>-</td>\n",
       "<td>kg  m <script type=\"math/tex\">^{-2 }</script>  s <script type=\"math/tex\">^{-1 }</script> </td>\n",
       "</tr>\n",
       "<tr class =\"row-a\">\n",
       "<td><script type=\"math/tex\">{H}</script></td>\n",
       "<td>H_w</td>\n",
       "<td>Wet surface sensible heat flux (positive outwards)</td>\n",
       "<td>-</td>\n",
       "<td>J  m <script type=\"math/tex\">^{-2 }</script>  s <script type=\"math/tex\">^{-1 }</script> </td>\n",
       "</tr>\n",
       "<tr class =\"row-b\">\n",
       "<td><script type=\"math/tex\">{L}</script></td>\n",
       "<td>L_E</td>\n",
       "<td>Latent heat</td>\n",
       "<td>2450000.0</td>\n",
       "<td>J  kg <script type=\"math/tex\">^{-1 }</script> </td>\n",
       "</tr>\n",
       "<tr class =\"row-a\">\n",
       "<td><script type=\"math/tex\">{s}</script></td>\n",
       "<td>s_PT</td>\n",
       "<td>Priestley-Taylor <script type=\"math/tex\">\\partial q_s/\\partial T</script></td>\n",
       "<td>-</td>\n",
       "<td>kg  K <script type=\"math/tex\">^{-1 }</script>  m <script type=\"math/tex\">^{-3 }</script> </td>\n",
       "</tr>\n",
       "<tr class =\"row-b\">\n",
       "<td><script type=\"math/tex\">{T}</script></td>\n",
       "<td>T</td>\n",
       "<td>Temperature</td>\n",
       "<td>-</td>\n",
       "<td>K </td>\n",
       "</tr>\n",
       "</tbody>\n",
       "</table>\n",
       "</div>"
      ],
      "text/plain": [
       "  Symbol       Name       Description                                                           Default value   Units\n",
       "  ${\\gamma}$   gamma_PT   Priestley-Taylor $\\gamma$                                             -                K $^{-1 }$\n",
       "  ${c_{pa}}$   c_pa       Specific heat of dry air.                                             1010.0          J  K $^{-1 }$  kg $^{-1 }$\n",
       "  ${E}$        E_w        Wet surface evaporation\n",
       "    (E in Priestley and Taylor, 1972))\n",
       "       -               kg  m $^{-2 }$  s $^{-1 }$\n",
       "  ${H}$        H_w        Wet surface sensible heat flux (positive outwards)                    -               J  m $^{-2 }$  s $^{-1 }$\n",
       "  ${L}$        L_E        Latent heat                                                           2450000.0       J  kg $^{-1 }$\n",
       "  ${s}$        s_PT       Priestley-Taylor $\\partial q_s/\\partial T$                            -               kg  K $^{-1 }$  m $^{-3 }$\n",
       "  ${T}$        T          Temperature                                                           -               K"
      ]
     },
     "execution_count": 3,
     "metadata": {},
     "output_type": "execute_result"
    }
   ],
   "source": [
    "table(list(generate_metadata_table([E_w, H_w, L_E, c_pa, s_PT, T, gamma_PT])))"
   ]
  },
  {
   "cell_type": "markdown",
   "metadata": {},
   "source": [
    "Eq. 3 was given in the paper as:\n",
    "$$ \\frac{LE}{H} = \\frac{s}{\\gamma}$$"
   ]
  },
  {
   "cell_type": "markdown",
   "metadata": {},
   "source": [
    "Using the variables defined above, we can write it as:"
   ]
  },
  {
   "cell_type": "code",
   "execution_count": 4,
   "metadata": {},
   "outputs": [
    {
     "data": {
      "text/latex": [
       "$$\\frac{{E} {L}}{{H}} = \\frac{{s}}{{\\gamma}}$$"
      ],
      "text/plain": [
       "<IPython.core.display.Math object>"
      ]
     },
     "metadata": {},
     "output_type": "display_data"
    }
   ],
   "source": [
    "eq3 = L_E*E_w/H_w == s_PT/gamma_PT\n",
    "display(Math(latex(eq3)))"
   ]
  },
  {
   "cell_type": "markdown",
   "metadata": {},
   "source": [
    "Now, we will try to define the above expression as a physical equation, using our `Equation` class:"
   ]
  },
  {
   "cell_type": "code",
   "execution_count": 5,
   "metadata": {
    "scrolled": true
   },
   "outputs": [
    {
     "name": "stdout",
     "output_type": "stream",
     "text": [
      "Invalid expression units: 1 == kilogram/meter^3\n"
     ]
    }
   ],
   "source": [
    "try: \n",
    "    class eq_3(Equation):\n",
    "        \"\"\"Equation 3 in Priestley and Taylor (1972)\"\"\"\n",
    "        expr = L_E*E_w/H_w == s_PT/gamma_PT\n",
    "except Exception, error:\n",
    "    print error"
   ]
  },
  {
   "cell_type": "markdown",
   "metadata": {},
   "source": [
    "Since $EL/H$ is non-dimensional, the right hand side of Eq. 3 must be non-dimensional, too. Clearly, the units of Eq. 3 do not match if we use our assumptions about the units of $L$, $s$ and $c_{pa}$. Either the equation is missing a division by a density term (units of kg m$^{-3}$) on the right hand side, or one of our assumptions about the units involved was different to what the authors had in mind. \n",
    "\n",
    "Note that the definition of $\\gamma \\equiv c_{pa}/L$, which was entered above when defining `gamma_PT`, is stored in a dictionary, `Variable.__expressions__` and is also directly associated with the variable through `gamma_PT.definition.expr`. The units of each variable can be accessed in a similar way, through `Variable.__units__` or `gamma_PT.definition.unit`."
   ]
  },
  {
   "cell_type": "code",
   "execution_count": 6,
   "metadata": {},
   "outputs": [
    {
     "data": {
      "text/html": [
       "<html><script type=\"math/tex; mode=display\">\\newcommand{\\Bold}[1]{\\mathbf{#1}}{\\gamma} = \\frac{{c_{pa}}}{{L}}</script></html>"
      ],
      "text/plain": [
       "gamma_PT == c_pa/L_E"
      ]
     },
     "metadata": {},
     "output_type": "display_data"
    },
    {
     "name": "stdout",
     "output_type": "stream",
     "text": [
      "1/kelvin\n"
     ]
    }
   ],
   "source": [
    "(gamma_PT == gamma_PT.definition.expr).show()\n",
    "print gamma_PT.definition.unit"
   ]
  },
  {
   "cell_type": "markdown",
   "metadata": {},
   "source": [
    "We can substitute the stored definition of `gamma_PT` into `eq3` and verify that the unit problem does not go away, by also substituting the units for the variables.:"
   ]
  },
  {
   "cell_type": "code",
   "execution_count": 7,
   "metadata": {},
   "outputs": [
    {
     "data": {
      "text/html": [
       "<html><script type=\"math/tex; mode=display\">\\newcommand{\\Bold}[1]{\\mathbf{#1}}\\frac{{E} {L}}{{H}} = \\frac{{L} {s}}{{c_{pa}}}</script></html>"
      ],
      "text/plain": [
       "E_w*L_E/H_w == L_E*s_PT/c_pa"
      ]
     },
     "metadata": {},
     "output_type": "display_data"
    },
    {
     "data": {
      "text/plain": [
       "1 == kilogram/meter^3"
      ]
     },
     "execution_count": 7,
     "metadata": {},
     "output_type": "execute_result"
    }
   ],
   "source": [
    "eq_3a = eq3.subs(Variable.__expressions__)\n",
    "eq_3a.show()\n",
    "eq_3a.subs(Variable.__units__)"
   ]
  },
  {
   "cell_type": "markdown",
   "metadata": {},
   "source": [
    "**There is no obvious way of interpreting the variables in Equation 3 in a way that the units on both sides of the equation would balance.**"
   ]
  },
  {
   "cell_type": "code",
   "execution_count": null,
   "metadata": {
    "collapsed": true
   },
   "outputs": [],
   "source": []
  }
 ],
 "metadata": {
  "kernelspec": {
   "display_name": "Python 3",
   "language": "python",
   "name": "python3"
  },
  "language_info": {
   "codemirror_mode": {
    "name": "ipython",
    "version": 3
   },
   "file_extension": ".py",
   "mimetype": "text/x-python",
   "name": "python",
   "nbconvert_exporter": "python",
   "pygments_lexer": "ipython3",
   "version": "3.7.4"
  },
  "nav_menu": {},
  "toc": {
   "base_numbering": 1,
   "nav_menu": {},
   "number_sections": true,
   "sideBar": true,
   "skip_h1_title": false,
   "title_cell": "Table of Contents",
   "title_sidebar": "Contents",
   "toc_cell": false,
   "toc_position": {},
   "toc_section_display": "block",
   "toc_window_display": false
  }
 },
 "nbformat": 4,
 "nbformat_minor": 2
}
