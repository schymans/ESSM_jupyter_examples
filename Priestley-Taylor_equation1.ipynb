{
 "cells": [
  {
   "cell_type": "markdown",
   "metadata": {},
   "source": [
    "# Units mystery in the Priestley-Taylor equation <a class=\"tocSkip\">\n",
    "\n",
    "Author: Stan Schymanski, stan.schymanski@datascience.ch\n",
    "\n",
    "In this worksheet, we explore the famous Priestley-Taylor equation (Priestley and Taylor, 1972) using the Environmental Science for Symbolic Math (essm) package, downloadable from https://github.com/environmentalscience/essm. Note that this notebook is compatible with v0.2.0 of essm."
   ]
  },
  {
   "cell_type": "code",
   "execution_count": 1,
   "metadata": {},
   "outputs": [],
   "source": [
    "# setting some general options for the notebook\n",
    "from IPython.display import HTML, display\n",
    "from sympy import diff, init_printing\n",
    "init_printing(use_latex='mathjax')  # This causes mathjax to render all output\n",
    "from sympy.printing import StrPrinter\n",
    "StrPrinter._print_Quantity = lambda self, expr: str(expr.abbrev)    # displays short units (m instead of meter)"
   ]
  },
  {
   "cell_type": "code",
   "execution_count": 2,
   "metadata": {},
   "outputs": [],
   "source": [
    "# importing relevant functions from sympy and essm\n",
    "from sympy.physics.units import convert_to\n",
    "from sympy import diff, Derivative\n",
    "from essm import Eq, e\n",
    "from essm.equations import Equation\n",
    "from essm.variables import Variable\n",
    "from essm.variables.utils import generate_metadata_table\n",
    "from essm.variables.units import derive_unit, derive_baseunit, markdown, SI\n",
    "from essm.variables.units import joule, kelvin, kilogram, meter, pascal, second, watt"
   ]
  },
  {
   "cell_type": "markdown",
   "metadata": {},
   "source": [
    "# Derivation of PT equation"
   ]
  },
  {
   "cell_type": "markdown",
   "metadata": {},
   "source": [
    "Below, we use essm `Variable` class to define relevant variables used in the paper by Priestley and Taylor. Since units were not provided in the paper, we assume standard SI units for each variable. Since $q_s$ was referred to as specific humidity at saturation by Priestley and Taylor (1972), we assume units of kg m$^{-3}$. Consequently, since $s=\\partial q_s/\\partial T$, the units of $s$ are assumed to be kg m$^{-3}$ K$^{-1}$."
   ]
  },
  {
   "cell_type": "code",
   "execution_count": 3,
   "metadata": {},
   "outputs": [],
   "source": [
    "class E_w(Variable):\n",
    "    \"\"\"Wet surface evaporation\n",
    "    (E in Priestley and Taylor, 1972))\n",
    "    \"\"\"\n",
    "    unit = kilogram/meter**2/second\n",
    "    latex_name = 'E'\n",
    "    \n",
    "class H_w(Variable):\n",
    "    \"\"\"Wet surface sensible heat flux (positive outwards)\"\"\"\n",
    "    unit = watt/meter**2\n",
    "    latex_name = 'H'\n",
    "      \n",
    "class q_a(Variable):\n",
    "    \"\"\"Specific humidity\"\"\"\n",
    "    unit = kilogram/meter**3\n",
    "    \n",
    "class q_s(Variable):\n",
    "    \"\"\"Specific humidity at saturation\"\"\"\n",
    "    unit = kilogram/meter**3\n",
    "    \n",
    "class T(Variable):\n",
    "    \"\"\"Temperature\"\"\"\n",
    "    unit = kelvin\n",
    "    \n",
    "class s_PT(Variable):\n",
    "    \"\"\"Priestley-Taylor $\\partial q_s/\\partial T$\"\"\"\n",
    "    #unit = kilogram/meter**3/kelvin\n",
    "    expr = Derivative(q_s, T)\n",
    "    latex_name = 's'"
   ]
  },
  {
   "cell_type": "markdown",
   "metadata": {},
   "source": [
    "We will import latent heat of evaporation and specific heat of dry air from the essm thermodynamics library and define $\\gamma = c_{pa}/L:"
   ]
  },
  {
   "cell_type": "code",
   "execution_count": 4,
   "metadata": {},
   "outputs": [
    {
     "data": {
      "text/latex": [
       "$$\\frac{1}{K}$$"
      ],
      "text/plain": [
       "1\n",
       "─\n",
       "K"
      ]
     },
     "execution_count": 4,
     "metadata": {},
     "output_type": "execute_result"
    }
   ],
   "source": [
    "from essm.variables.physics.thermodynamics import lambda_E, c_pa\n",
    "class gamma_PT(Variable):\n",
    "    \"\"\"Priestley-Taylor gamma = c_p/L\"\"\"\n",
    "    latex_name = r\"\\gamma\"\n",
    "    expr = c_pa/lambda_E\n",
    "gamma_PT.definition.unit    "
   ]
  },
  {
   "cell_type": "markdown",
   "metadata": {},
   "source": [
    "We will re-define `lambda_E` as `L_E` to have the same latex representation as in the paper, and we also define $L \\times E$ as separate variable, $LE$:"
   ]
  },
  {
   "cell_type": "code",
   "execution_count": 5,
   "metadata": {},
   "outputs": [
    {
     "data": {
      "text/latex": [
       "$$\\frac{W}{m^{2}}$$"
      ],
      "text/plain": [
       "W \n",
       "──\n",
       " 2\n",
       "m "
      ]
     },
     "execution_count": 5,
     "metadata": {},
     "output_type": "execute_result"
    }
   ],
   "source": [
    "class L_E(lambda_E.definition):\n",
    "    \"\"\"Latent heat\"\"\"\n",
    "    \n",
    "    latex_name = 'L'\n",
    "    default = lambda_E.definition.default\n",
    "    unit = lambda_E.definition.unit\n",
    "\n",
    "class LE(Variable):\n",
    "    \"\"\"Latent heat flux from wet surface\"\"\"\n",
    "    expr = L_E * E_w\n",
    "    unit = watt / meter ** 2\n",
    "LE.definition.unit\n",
    "    "
   ]
  },
  {
   "cell_type": "code",
   "execution_count": 6,
   "metadata": {},
   "outputs": [
    {
     "data": {
      "text/html": [
       "<table><tr><td>Symbol</td><td>Name</td><td>Description</td><td>Default value</td><td>Units</td></tr><tr><td>$\\gamma$</td><td>gamma_PT</td><td>Priestley-Taylor gamma = c_p/L</td><td>-</td><td>K$^{-1}$</td></tr><tr><td>$c_{pa}$</td><td>c_pa</td><td>Specific heat of dry air.</td><td>1010.0</td><td>J K$^{-1}$ kg$^{-1}$</td></tr><tr><td>$E$</td><td>E_w</td><td>Wet surface evaporation\n",
       "    (E in Priestley and Taylor, 1972))\n",
       "    </td><td>-</td><td>kg m$^{-2}$ s$^{-1}$</td></tr><tr><td>$H$</td><td>H_w</td><td>Wet surface sensible heat flux (positive outwards)</td><td>-</td><td>W m$^{-2}$</td></tr><tr><td>$L$</td><td>L_E</td><td>Latent heat</td><td>2450000.0</td><td>J kg$^{-1}$</td></tr><tr><td>$q_s$</td><td>q_s</td><td>Specific humidity at saturation</td><td>-</td><td>kg m$^{-3}$</td></tr><tr><td>$s$</td><td>s_PT</td><td>Priestley-Taylor $\\partial q_s/\\partial T$</td><td>-</td><td>K$^{-1}$ kg m$^{-3}$</td></tr></table>"
      ],
      "text/plain": [
       "[('Symbol', 'Name', 'Description', 'Default value', 'Units'),\n",
       " ('$\\\\gamma$', 'gamma_PT', 'Priestley-Taylor gamma = c_p/L', '-', 'K$^{-1}$'),\n",
       " ('$c_{pa}$',\n",
       "  'c_pa',\n",
       "  'Specific heat of dry air.',\n",
       "  '1010.0',\n",
       "  'J K$^{-1}$ kg$^{-1}$'),\n",
       " ('$E$',\n",
       "  'E_w',\n",
       "  'Wet surface evaporation\\n    (E in Priestley and Taylor, 1972))\\n    ',\n",
       "  '-',\n",
       "  'kg m$^{-2}$ s$^{-1}$'),\n",
       " ('$H$',\n",
       "  'H_w',\n",
       "  'Wet surface sensible heat flux (positive outwards)',\n",
       "  '-',\n",
       "  'W m$^{-2}$'),\n",
       " ('$L$', 'L_E', 'Latent heat', '2450000.0', 'J kg$^{-1}$'),\n",
       " ('$q_s$', 'q_s', 'Specific humidity at saturation', '-', 'kg m$^{-3}$'),\n",
       " ('$s$',\n",
       "  's_PT',\n",
       "  'Priestley-Taylor $\\\\partial q_s/\\\\partial T$',\n",
       "  '-',\n",
       "  'K$^{-1}$ kg m$^{-3}$')]"
      ]
     },
     "execution_count": 6,
     "metadata": {},
     "output_type": "execute_result"
    }
   ],
   "source": [
    "generate_metadata_table([E_w, H_w, L_E, c_pa, q_s, s_PT, gamma_PT])"
   ]
  },
  {
   "cell_type": "markdown",
   "metadata": {},
   "source": [
    "## Eq. 3"
   ]
  },
  {
   "cell_type": "markdown",
   "metadata": {},
   "source": [
    "Eq. 3 was given in the paper as:\n",
    "$$ \\frac{LE}{H} = \\frac{L}{c_p} s = \\frac{s}{\\gamma} $$"
   ]
  },
  {
   "cell_type": "markdown",
   "metadata": {},
   "source": [
    "Now, we will try to define Eq. 3 in the paper as a physical equation, using essm's `Equation` class:"
   ]
  },
  {
   "cell_type": "code",
   "execution_count": 7,
   "metadata": {
    "scrolled": true
   },
   "outputs": [
    {
     "data": {
      "text/latex": [
       "$$\\frac{E L}{H} = \\frac{L s}{c_{pa}}$$"
      ],
      "text/plain": [
       "E_w⋅L_E   L_E⋅s_PT\n",
       "─────── = ────────\n",
       "  H_w       c_pa  "
      ]
     },
     "metadata": {},
     "output_type": "display_data"
    },
    {
     "name": "stdout",
     "output_type": "stream",
     "text": [
      "summation of quantities of incompatible dimensions\n"
     ]
    }
   ],
   "source": [
    "eq3 = Eq(L_E*E_w/H_w, L_E/c_pa*s_PT)\n",
    "display(eq3)\n",
    "try: \n",
    "    class eq_3(Equation):\n",
    "        \"\"\"Equation 3 in Priestley and Taylor (1972)\"\"\"\n",
    "        expr = eq3\n",
    "except Exception as error:\n",
    "    print(error)"
   ]
  },
  {
   "cell_type": "markdown",
   "metadata": {},
   "source": [
    "**Our attempt failed because of dimensional inconsistency!**\n",
    "\n",
    "Since $EL/H$ is non-dimensional, the right hand side of Eq. 3 must be non-dimensioanl, too. Clearly, the units of Eq. 3 do not match if we use our assumptions about the units of $L$, $s$ and $c_{pa}$. Either the equation is missing a division by a density term (units of kg m$^{-3}$) on the right hand side, or one of our assumptions about the units involved was different to what the authors had in mind. "
   ]
  },
  {
   "cell_type": "code",
   "execution_count": 8,
   "metadata": {},
   "outputs": [
    {
     "data": {
      "text/latex": [
       "$$\\frac{kg}{m^{3}}$$"
      ],
      "text/plain": [
       "kg\n",
       "──\n",
       " 3\n",
       "m "
      ]
     },
     "execution_count": 8,
     "metadata": {},
     "output_type": "execute_result"
    }
   ],
   "source": [
    "derive_baseunit(eq3.rhs)"
   ]
  },
  {
   "cell_type": "code",
   "execution_count": 9,
   "metadata": {},
   "outputs": [
    {
     "data": {
      "text/latex": [
       "$$1$$"
      ],
      "text/plain": [
       "1"
      ]
     },
     "execution_count": 9,
     "metadata": {},
     "output_type": "execute_result"
    }
   ],
   "source": [
    "derive_baseunit(eq3.lhs)"
   ]
  },
  {
   "cell_type": "markdown",
   "metadata": {},
   "source": [
    "## Eq. 7a\n",
    "In Eq. 7a, Priestley and Taylor reproduce the Penman equation:\n",
    "$$LE = \\frac{s}{s+\\gamma} (R-G) + \\frac{\\gamma}{s + \\gamma} h(q_s - q)$$\n",
    "\n",
    "We will check whether the representation here has matching units, using the definition of variables given in the text. Note that $\\gamma$ was defined below Eq. 3 in the original paper as $\\gamma = c_p/L$.\n",
    "Therefore, the units of $\\gamma$ should be: "
   ]
  },
  {
   "cell_type": "code",
   "execution_count": 10,
   "metadata": {},
   "outputs": [
    {
     "data": {
      "text/latex": [
       "$$\\frac{1}{K}$$"
      ],
      "text/plain": [
       "1\n",
       "─\n",
       "K"
      ]
     },
     "execution_count": 10,
     "metadata": {},
     "output_type": "execute_result"
    }
   ],
   "source": [
    "derive_unit(c_pa/L_E)"
   ]
  },
  {
   "cell_type": "code",
   "execution_count": 11,
   "metadata": {},
   "outputs": [],
   "source": [
    "class R(Variable):\n",
    "    \"\"\"Net incoming radiation.\"\"\"\n",
    "    unit = watt/meter**2\n",
    "\n",
    "class G(Variable):\n",
    "    \"\"\"Heat flux into the ground.\"\"\"\n",
    "    unit = watt/meter**2"
   ]
  },
  {
   "cell_type": "markdown",
   "metadata": {},
   "source": [
    "The meaning of $h$ was described as \"a suitably defined transfer coefficient\", so its units can be adjusted to achieve consistent dimensions. To find out what the appropriate units for $h$ should be, we will define a symbol h with undefined units and then solve Eq. 7a for h to get its units:"
   ]
  },
  {
   "cell_type": "code",
   "execution_count": 12,
   "metadata": {},
   "outputs": [
    {
     "data": {
      "text/latex": [
       "$$LE = - \\frac{\\gamma h \\left(q_a - q_s\\right) + s \\left(G - R\\right)}{\\gamma + s}$$"
      ],
      "text/plain": [
       "     -(γ_PT⋅h⋅(qₐ - q_s) + s_PT⋅(G - R)) \n",
       "LE = ────────────────────────────────────\n",
       "                 γ_PT + s_PT             "
      ]
     },
     "execution_count": 12,
     "metadata": {},
     "output_type": "execute_result"
    }
   ],
   "source": [
    "from sympy import Symbol, solve\n",
    "h = Symbol('h')\n",
    "eq7a = Eq(LE, s_PT/(s_PT + gamma_PT) * (R - G) +\n",
    "                gamma_PT/(s_PT + gamma_PT) * h *(q_s - q_a))\n",
    "eq7a.simplify()"
   ]
  },
  {
   "cell_type": "markdown",
   "metadata": {},
   "source": [
    "We will now check if the units of the right hand side match the units of $LE$:"
   ]
  },
  {
   "cell_type": "code",
   "execution_count": 13,
   "metadata": {},
   "outputs": [
    {
     "name": "stdout",
     "output_type": "stream",
     "text": [
      "summation of quantities of incompatible dimensions\n"
     ]
    }
   ],
   "source": [
    "try: \n",
    "    print(derive_baseunit(eq7a.rhs))\n",
    "except Exception as e1:\n",
    "    print(e1)"
   ]
  },
  {
   "cell_type": "markdown",
   "metadata": {},
   "source": [
    "The term $s + \\gamma$ in the denominator implies that $s$ and $\\gamma$ must have the same units, but: "
   ]
  },
  {
   "cell_type": "code",
   "execution_count": 14,
   "metadata": {},
   "outputs": [
    {
     "data": {
      "text/html": [
       "<table><tr><td>Symbol</td><td>Name</td><td>Description</td><td>Default value</td><td>Units</td></tr><tr><td>$\\gamma$</td><td>gamma_PT</td><td>Priestley-Taylor gamma = c_p/L</td><td>-</td><td>K$^{-1}$</td></tr><tr><td>$s$</td><td>s_PT</td><td>Priestley-Taylor $\\partial q_s/\\partial T$</td><td>-</td><td>K$^{-1}$ kg m$^{-3}$</td></tr></table>"
      ],
      "text/plain": [
       "[('Symbol', 'Name', 'Description', 'Default value', 'Units'),\n",
       " ('$\\\\gamma$', 'gamma_PT', 'Priestley-Taylor gamma = c_p/L', '-', 'K$^{-1}$'),\n",
       " ('$s$',\n",
       "  's_PT',\n",
       "  'Priestley-Taylor $\\\\partial q_s/\\\\partial T$',\n",
       "  '-',\n",
       "  'K$^{-1}$ kg m$^{-3}$')]"
      ]
     },
     "execution_count": 14,
     "metadata": {},
     "output_type": "execute_result"
    }
   ],
   "source": [
    "generate_metadata_table([s_PT, gamma_PT])"
   ]
  },
  {
   "cell_type": "markdown",
   "metadata": {},
   "source": [
    "Again, the units differ by a density term (kg m$^{-3}$)."
   ]
  },
  {
   "cell_type": "markdown",
   "metadata": {
    "collapsed": true
   },
   "source": [
    "# Comparison with Penman (1948)\n",
    "Penman (1948) actually worked with vapour pressure, not specific humidity, such that the slope of the vapour saturation curve at air temperature ($\\Delta_{e}$) had units of Pa/K."
   ]
  },
  {
   "cell_type": "code",
   "execution_count": 15,
   "metadata": {},
   "outputs": [],
   "source": [
    "class Delta_eTa(Variable):\n",
    "    \"\"\"Slope of saturation vapour pressure at air temperature\"\"\"\n",
    "    latex_name = r\"\\Delta\"\n",
    "    unit = pascal/kelvin"
   ]
  },
  {
   "cell_type": "markdown",
   "metadata": {},
   "source": [
    "According to Eq. 10 in Penman (1948), $\\gamma = \\beta \\frac{e_s - e_d}{T_s - T_a}$ i.e. has dimensions of pressure devided by temperature, similar to $\\Delta$:"
   ]
  },
  {
   "cell_type": "code",
   "execution_count": 16,
   "metadata": {},
   "outputs": [
    {
     "name": "stderr",
     "output_type": "stream",
     "text": [
      "/home/stan/Programs/essm/essm/variables/_core.py:87: UserWarning: \"essm.variables.physics.thermodynamics:T_a\" will be overridden by \"__main__:<class '__main__.T_a'>\"\n",
      "  instance[expr] = instance\n"
     ]
    }
   ],
   "source": [
    "class beta(Variable):\n",
    "    \"\"\"Bowen ratio, LE/H\"\"\"\n",
    "    expr = LE/H_w\n",
    "    \n",
    "class e_s(Variable):\n",
    "    \"\"\"\n",
    "    Saturation vapour pressure at dew point, \n",
    "    i.e. actual vapour pressure\n",
    "    \"\"\"\n",
    "    unit = pascal\n",
    "    \n",
    "class e_a(Variable):\n",
    "    \"\"\"Saturation vapour pressure at air temperature\"\"\"\n",
    "    unit = pascal\n",
    "    \n",
    "class e_d(Variable):\n",
    "    \"\"\"Saturation vapour pressure at dew point\"\"\"\n",
    "    unit = pascal\n",
    "    \n",
    "class T_a(Variable):\n",
    "    \"\"\"Air temperature\"\"\"\n",
    "    unit = kelvin\n",
    "    \n",
    "class T_s(Variable):\n",
    "    \"\"\"Surface temperature\"\"\"\n",
    "    unit = kelvin    \n",
    "    \n",
    "class gamma_P(Variable):\n",
    "    \"\"\"Penman gamma, gamma = beta(e_s - e_d)/(T_s - T_a)\"\"\"\n",
    "    expr = beta * (e_s - e_d) / (T_s - T_a)\n",
    "    latex_name = r\"\\gamma_P\"\n",
    "    #unit = pascal/kelvin"
   ]
  },
  {
   "cell_type": "markdown",
   "metadata": {},
   "source": [
    "With these definitions, Priestley and Taylor's reproduction of the Penman equation in Eq. 7a would be dimensionally consistent:\n",
    "$$LE = \\frac{\\Delta}{\\Delta+\\gamma} (R-G) + \\frac{\\gamma}{\\Delta + \\gamma} h(q_s - q)$$"
   ]
  },
  {
   "cell_type": "code",
   "execution_count": 17,
   "metadata": {},
   "outputs": [
    {
     "data": {
      "text/latex": [
       "$$LE = \\frac{\\Delta \\left(- G + R\\right)}{\\Delta + \\gamma_P} + \\frac{\\gamma_P h \\left(- q_a + q_s\\right)}{\\Delta + \\gamma_P}$$"
      ],
      "text/plain": [
       "     Δ_eTa⋅(-G + R)   γ_P⋅h⋅(-qₐ + q_s)\n",
       "LE = ────────────── + ─────────────────\n",
       "      Δ_eTa + γ_P        Δ_eTa + γ_P   "
      ]
     },
     "metadata": {},
     "output_type": "display_data"
    },
    {
     "name": "stdout",
     "output_type": "stream",
     "text": [
      "kg/s**3\n",
      "kg/s**3\n"
     ]
    }
   ],
   "source": [
    "eq7aP = eq7a.subs({s_PT: Delta_eTa, gamma_PT: gamma_P})\n",
    "display(eq7aP)\n",
    "print derive_baseunit(eq7aP.lhs)\n",
    "print(derive_baseunit(eq7aP.rhs))"
   ]
  },
  {
   "cell_type": "markdown",
   "metadata": {},
   "source": [
    "We will now solve the equation for h to find out what the units should be:"
   ]
  },
  {
   "cell_type": "code",
   "execution_count": 18,
   "metadata": {},
   "outputs": [
    {
     "data": {
      "text/latex": [
       "$$\\left [ \\left \\{ h : \\frac{- \\Delta G - \\Delta LE + \\Delta R - LE \\gamma_P}{\\gamma_P \\left(q_a - q_s\\right)}\\right \\}\\right ]$$"
      ],
      "text/plain": [
       "⎡⎧   -Δ_eTa⋅G - Δ_eTa⋅LE + Δ_eTa⋅R - LE⋅γ_P⎫⎤\n",
       "⎢⎨h: ──────────────────────────────────────⎬⎥\n",
       "⎣⎩               γ_P⋅(qₐ - q_s)            ⎭⎦"
      ]
     },
     "execution_count": 18,
     "metadata": {},
     "output_type": "execute_result"
    }
   ],
   "source": [
    "soln = solve(eq7aP, h, dict=True)\n",
    "soln"
   ]
  },
  {
   "cell_type": "code",
   "execution_count": 19,
   "metadata": {},
   "outputs": [
    {
     "data": {
      "text/latex": [
       "$$\\frac{m^{3}}{s^{3}}$$"
      ],
      "text/plain": [
       " 3\n",
       "m \n",
       "──\n",
       " 3\n",
       "s "
      ]
     },
     "execution_count": 19,
     "metadata": {},
     "output_type": "execute_result"
    }
   ],
   "source": [
    "derive_baseunit(soln[0][h])"
   ]
  },
  {
   "cell_type": "markdown",
   "metadata": {},
   "source": [
    "The units of h should be m$^3$ s$^{-3}$ to make the equation dimensionally consistent. So now we can define h in this way and write Eq. 7a in Priestley and Taylor using Penman's variable definitions:"
   ]
  },
  {
   "cell_type": "code",
   "execution_count": 20,
   "metadata": {},
   "outputs": [
    {
     "data": {
      "text/latex": [
       "$$LE = \\frac{\\Delta \\left(- G + R\\right)}{\\Delta + \\gamma_P} + \\frac{\\gamma_P h \\left(- q_a + q_s\\right)}{\\Delta + \\gamma_P}$$"
      ],
      "text/plain": [
       "     Δ_eTa⋅(-G + R)   γ_P⋅h_PT⋅(-qₐ + q_s)\n",
       "LE = ────────────── + ────────────────────\n",
       "      Δ_eTa + γ_P         Δ_eTa + γ_P     "
      ]
     },
     "execution_count": 20,
     "metadata": {},
     "output_type": "execute_result"
    }
   ],
   "source": [
    "class h_PT(Variable):\n",
    "    \"\"\"Priestley-Taylor transfer coefficient\"\"\"\n",
    "    latex_name = r\"h\"\n",
    "    unit = meter ** 3 / second ** 3\n",
    "\n",
    "class eq_7aP(Equation):\n",
    "    \"\"\"Eq. 7a in Priestley-Taylor using Penman variables\"\"\"\n",
    "    expr = eq7aP.subs(h, h_PT)\n",
    "eq_7aP"
   ]
  },
  {
   "cell_type": "markdown",
   "metadata": {},
   "source": [
    "In comparison, Penman's original equation (Eq. 16) was: \n",
    "$$LE = \\frac{(R - G)  \\Delta + \\gamma_P (e_a - e_d)  f_u}{\\Delta + \\gamma_P}$$\n",
    "As Priestley and Taylor, Penman did not provide the units of $f_u$, so we will first define it as a unitless symbol and then derive appropriate units to make the equation dimensionally consistent:"
   ]
  },
  {
   "cell_type": "code",
   "execution_count": 21,
   "metadata": {},
   "outputs": [
    {
     "name": "stderr",
     "output_type": "stream",
     "text": [
      "/home/stan/Programs/essm/essm/variables/_core.py:87: UserWarning: \"__main__:e_a\" will be overridden by \"__main__:<class '__main__.e_a'>\"\n",
      "  instance[expr] = instance\n",
      "/home/stan/Programs/essm/essm/variables/_core.py:87: UserWarning: \"__main__:e_d\" will be overridden by \"__main__:<class '__main__.e_d'>\"\n",
      "  instance[expr] = instance\n"
     ]
    },
    {
     "data": {
      "text/latex": [
       "$$LE = \\frac{\\Delta \\left(- G + R\\right) + \\gamma_P f_{u} \\left(e_a - e_d\\right)}{\\Delta + \\gamma_P}$$"
      ],
      "text/plain": [
       "     Δ_eTa⋅(-G + R) + γ_P⋅fᵤ⋅(eₐ - e_d)\n",
       "LE = ──────────────────────────────────\n",
       "                Δ_eTa + γ_P            "
      ]
     },
     "execution_count": 21,
     "metadata": {},
     "output_type": "execute_result"
    }
   ],
   "source": [
    "class e_a(Variable):\n",
    "    \"\"\"Saturation vapour pressure at air temperature\"\"\"\n",
    "    unit = pascal\n",
    "    \n",
    "class e_d(Variable):\n",
    "    \"\"\"Saturation vapour pressure at dew point\"\"\"\n",
    "    unit = pascal\n",
    "    \n",
    "f_u = Symbol('f_u')\n",
    "eq16P =  Eq(LE, ((R - G) * Delta_eTa + gamma_P * (e_a - e_d) * f_u) /\n",
    "            (Delta_eTa + gamma_P))\n",
    "eq16P"
   ]
  },
  {
   "cell_type": "code",
   "execution_count": 22,
   "metadata": {},
   "outputs": [
    {
     "data": {
      "text/latex": [
       "$$\\left \\{ f_{u} : \\frac{\\Delta G + \\Delta LE - \\Delta R + LE \\gamma_P}{\\gamma_P \\left(e_a - e_d\\right)}\\right \\}$$"
      ],
      "text/plain": [
       "⎧    Δ_eTa⋅G + Δ_eTa⋅LE - Δ_eTa⋅R + LE⋅γ_P⎫\n",
       "⎨fᵤ: ─────────────────────────────────────⎬\n",
       "⎩                γ_P⋅(eₐ - e_d)           ⎭"
      ]
     },
     "execution_count": 22,
     "metadata": {},
     "output_type": "execute_result"
    }
   ],
   "source": [
    "soln = solve([eq16P], f_u)\n",
    "soln"
   ]
  },
  {
   "cell_type": "code",
   "execution_count": 23,
   "metadata": {},
   "outputs": [
    {
     "data": {
      "text/latex": [
       "$$\\frac{m}{s}$$"
      ],
      "text/plain": [
       "m\n",
       "─\n",
       "s"
      ]
     },
     "execution_count": 23,
     "metadata": {},
     "output_type": "execute_result"
    }
   ],
   "source": [
    "derive_baseunit(soln[f_u])"
   ]
  },
  {
   "cell_type": "markdown",
   "metadata": {},
   "source": [
    "The correct units of f_u are m/s."
   ]
  },
  {
   "cell_type": "code",
   "execution_count": 24,
   "metadata": {},
   "outputs": [
    {
     "data": {
      "text/latex": [
       "$$LE = \\frac{\\Delta \\left(- G + R\\right) + f_u \\gamma_P \\left(e_a - e_d\\right)}{\\Delta + \\gamma_P}$$"
      ],
      "text/plain": [
       "     Δ_eTa⋅(-G + R) + fᵤ⋅γ_P⋅(eₐ - e_d)\n",
       "LE = ──────────────────────────────────\n",
       "                Δ_eTa + γ_P            "
      ]
     },
     "execution_count": 24,
     "metadata": {},
     "output_type": "execute_result"
    }
   ],
   "source": [
    "class f_u(Variable):\n",
    "    \"\"\"Wind function in Penman approach, f(u) adapted to energetic units\"\"\"\n",
    "    unit = meter/second  \n",
    "\n",
    "class eq_16(Equation):\n",
    "    \"\"\"Penman equation for latent heat flux\"\"\"\n",
    "    expr = Eq(LE, ((R - G) * Delta_eTa + gamma_P * (e_a - e_d) * f_u) /\n",
    "            (Delta_eTa + gamma_P))\n",
    "    \n",
    "eq_16"
   ]
  },
  {
   "cell_type": "markdown",
   "metadata": {},
   "source": [
    "This shows that with the above definitions of variables, Eq. 7a in Priestley & Taylor (1972) is consistent with Eq. 16 in Penman (1948), except that P&T used specific humidity, whereas P used vapour pressure as driver for the aerodynamic part."
   ]
  },
  {
   "cell_type": "markdown",
   "metadata": {},
   "source": [
    "# Coming back to the PT-Equation\n",
    "With Penman's variables, Eq. 3 in Priestley&Taylor is still not dimensionally consistent, but if we replace both $s$ by $\\Delta$ and the PT definition of $\\gamma$ by that of Penman (1948), the second part does become dimensionally consistent:"
   ]
  },
  {
   "cell_type": "code",
   "execution_count": 25,
   "metadata": {},
   "outputs": [
    {
     "data": {
      "text/latex": [
       "$$\\frac{E L}{H} = \\frac{\\Delta L}{c_{pa}}$$"
      ],
      "text/plain": [
       "E_w⋅L_E   Δ_eTa⋅L_E\n",
       "─────── = ─────────\n",
       "  H_w        c_pa  "
      ]
     },
     "metadata": {},
     "output_type": "display_data"
    },
    {
     "data": {
      "text/latex": [
       "$$\\frac{kg}{m s^{2}}$$"
      ],
      "text/plain": [
       " kg \n",
       "────\n",
       "   2\n",
       "m⋅s "
      ]
     },
     "metadata": {},
     "output_type": "display_data"
    },
    {
     "data": {
      "text/latex": [
       "$$\\frac{E L}{H} = \\frac{\\Delta}{\\gamma_P}$$"
      ],
      "text/plain": [
       "E_w⋅L_E   Δ_eTa\n",
       "─────── = ─────\n",
       "  H_w      γ_P "
      ]
     },
     "metadata": {},
     "output_type": "display_data"
    },
    {
     "data": {
      "text/latex": [
       "$$1$$"
      ],
      "text/plain": [
       "1"
      ]
     },
     "execution_count": 25,
     "metadata": {},
     "output_type": "execute_result"
    }
   ],
   "source": [
    "display(eq3.subs(s_PT, Delta_eTa))\n",
    "display(derive_baseunit(eq3.subs(s_PT, Delta_eTa).rhs))\n",
    "eq3_P = Eq(eq3.lhs, s_PT/gamma_PT).subs({s_PT: Delta_eTa, gamma_PT: gamma_P})\n",
    "display(eq3_P)\n",
    "derive_baseunit(eq3_P.rhs)"
   ]
  },
  {
   "cell_type": "markdown",
   "metadata": {},
   "source": [
    "**It is still not clear how the first part of Eq. 3 can be made dimensionally consistent!**"
   ]
  },
  {
   "cell_type": "markdown",
   "metadata": {},
   "source": [
    "The Priestley-Taylor coefficient $\\alpha$ is introduced in Eq. 5. The authors never mention the units of $\\alpha$, so we will derive the correct units below."
   ]
  },
  {
   "cell_type": "code",
   "execution_count": 26,
   "metadata": {},
   "outputs": [
    {
     "data": {
      "text/latex": [
       "$$\\frac{LE}{H + LE} = \\frac{s \\alpha}{\\gamma + s}$$"
      ],
      "text/plain": [
       "   LE         s_PT⋅α  \n",
       "──────── = ───────────\n",
       "H_w + LE   γ_PT + s_PT"
      ]
     },
     "metadata": {},
     "output_type": "display_data"
    },
    {
     "name": "stdout",
     "output_type": "stream",
     "text": [
      "summation of quantities of incompatible dimensions\n"
     ]
    }
   ],
   "source": [
    "alpha = Symbol('alpha')\n",
    "eq5 = Eq(LE / (LE + H_w), alpha * s_PT/(s_PT + gamma_PT))\n",
    "display(eq5)\n",
    "try: derive_baseunit(eq5.rhs)\n",
    "except Exception as e1: print(e1)"
   ]
  },
  {
   "cell_type": "markdown",
   "metadata": {},
   "source": [
    "**Again the units don't match, which is because the units of $\\gamma$ and $s$ should be the same, but they are not:**"
   ]
  },
  {
   "cell_type": "code",
   "execution_count": 27,
   "metadata": {},
   "outputs": [
    {
     "data": {
      "text/html": [
       "<table><tr><td>Symbol</td><td>Name</td><td>Description</td><td>Default value</td><td>Units</td></tr><tr><td>$\\gamma$</td><td>gamma_PT</td><td>Priestley-Taylor gamma = c_p/L</td><td>-</td><td>K$^{-1}$</td></tr><tr><td>$s$</td><td>s_PT</td><td>Priestley-Taylor $\\partial q_s/\\partial T$</td><td>-</td><td>K$^{-1}$ kg m$^{-3}$</td></tr></table>"
      ],
      "text/plain": [
       "[('Symbol', 'Name', 'Description', 'Default value', 'Units'),\n",
       " ('$\\\\gamma$', 'gamma_PT', 'Priestley-Taylor gamma = c_p/L', '-', 'K$^{-1}$'),\n",
       " ('$s$',\n",
       "  's_PT',\n",
       "  'Priestley-Taylor $\\\\partial q_s/\\\\partial T$',\n",
       "  '-',\n",
       "  'K$^{-1}$ kg m$^{-3}$')]"
      ]
     },
     "execution_count": 27,
     "metadata": {},
     "output_type": "execute_result"
    }
   ],
   "source": [
    "generate_metadata_table([s_PT, gamma_PT])"
   ]
  },
  {
   "cell_type": "markdown",
   "metadata": {},
   "source": [
    "Now we will use Penman's variables instead:"
   ]
  },
  {
   "cell_type": "code",
   "execution_count": 28,
   "metadata": {},
   "outputs": [
    {
     "data": {
      "text/html": [
       "<table><tr><td>Symbol</td><td>Name</td><td>Description</td><td>Default value</td><td>Units</td></tr><tr><td>$\\Delta$</td><td>Delta_eTa</td><td>Slope of saturation vapour pressure at air temperature</td><td>-</td><td>K$^{-1}$ Pa</td></tr><tr><td>$\\gamma_P$</td><td>gamma_P</td><td>Penman gamma, gamma = beta(e_s - e_d)/(T_s - T_a)</td><td>-</td><td>K$^{-1}$ Pa</td></tr></table>"
      ],
      "text/plain": [
       "[('Symbol', 'Name', 'Description', 'Default value', 'Units'),\n",
       " ('$\\\\Delta$',\n",
       "  'Delta_eTa',\n",
       "  'Slope of saturation vapour pressure at air temperature',\n",
       "  '-',\n",
       "  'K$^{-1}$ Pa'),\n",
       " ('$\\\\gamma_P$',\n",
       "  'gamma_P',\n",
       "  'Penman gamma, gamma = beta(e_s - e_d)/(T_s - T_a)',\n",
       "  '-',\n",
       "  'K$^{-1}$ Pa')]"
      ]
     },
     "execution_count": 28,
     "metadata": {},
     "output_type": "execute_result"
    }
   ],
   "source": [
    "generate_metadata_table([Delta_eTa, gamma_P])"
   ]
  },
  {
   "cell_type": "code",
   "execution_count": 29,
   "metadata": {},
   "outputs": [
    {
     "data": {
      "text/latex": [
       "$$\\frac{LE}{H + LE} = \\frac{\\Delta \\alpha}{\\Delta + \\gamma_P}$$"
      ],
      "text/plain": [
       "   LE        Δ_eTa⋅α  \n",
       "──────── = ───────────\n",
       "H_w + LE   Δ_eTa + γ_P"
      ]
     },
     "metadata": {},
     "output_type": "display_data"
    },
    {
     "data": {
      "text/latex": [
       "$$1$$"
      ],
      "text/plain": [
       "1"
      ]
     },
     "execution_count": 29,
     "metadata": {},
     "output_type": "execute_result"
    }
   ],
   "source": [
    "eq5P = eq5.subs({s_PT: Delta_eTa, gamma_PT: gamma_P})\n",
    "display(eq5P)\n",
    "derive_unit(eq5P.rhs)"
   ]
  },
  {
   "cell_type": "markdown",
   "metadata": {},
   "source": [
    "With Penman's variables, the PT equation actually becomes dimensionally consistent and $\\alpha$ becomes non-dimensional:"
   ]
  },
  {
   "cell_type": "code",
   "execution_count": 30,
   "metadata": {},
   "outputs": [
    {
     "data": {
      "text/latex": [
       "$$\\frac{LE}{H + LE} = \\frac{\\Delta \\alpha}{\\Delta + \\gamma_P}$$"
      ],
      "text/plain": [
       "   LE       Δ_eTa⋅α_P \n",
       "──────── = ───────────\n",
       "H_w + LE   Δ_eTa + γ_P"
      ]
     },
     "execution_count": 30,
     "metadata": {},
     "output_type": "execute_result"
    }
   ],
   "source": [
    "class alpha_P(Variable):\n",
    "    \"\"\"PT alpha parameter for equation based on Penman's variables.\"\"\"\n",
    "    unit = 1/1\n",
    "    latex_name = r\"\\alpha\"\n",
    "\n",
    "class eq_5P(Equation):\n",
    "    \"\"\"Eq. 5 in Priestley & Taylor (1972) using Penman's variable definitions.\"\"\"\n",
    "    expr = eq5P.subs(alpha, alpha_P)    \n",
    "eq_5P"
   ]
  },
  {
   "cell_type": "markdown",
   "metadata": {},
   "source": [
    "Now, Eq. 5 is not very useful, as it still requires knowledge of $H_w$. What we usually refer to as the PT equation, is Eq. 8 in Priestley & Taylor (1972), after solving for $L E$. Note that Eq. 8 is deduced from Eq. 5 by substituting $R - G$ for $LE + H$ and solving for $\\alpha$. We will re-derive Eq. 8 using Penman variables for dimensional consistency:"
   ]
  },
  {
   "cell_type": "code",
   "execution_count": 31,
   "metadata": {},
   "outputs": [
    {
     "data": {
      "text/latex": [
       "$$- G + R = H + LE$$"
      ],
      "text/plain": [
       "-G + R = H_w + LE"
      ]
     },
     "execution_count": 31,
     "metadata": {},
     "output_type": "execute_result"
    }
   ],
   "source": [
    "class eq_enbalance(Equation):\n",
    "    \"\"\"Surface energy balance.\"\"\"\n",
    "    expr = Eq(R - G, LE + H_w)\n",
    "eq_enbalance"
   ]
  },
  {
   "cell_type": "code",
   "execution_count": 32,
   "metadata": {},
   "outputs": [
    {
     "data": {
      "text/latex": [
       "$$LE = \\frac{\\Delta \\alpha \\left(- G + R\\right)}{\\Delta + \\gamma_P}$$"
      ],
      "text/plain": [
       "     Δ_eTa⋅α_P⋅(-G + R)\n",
       "LE = ──────────────────\n",
       "        Δ_eTa + γ_P    "
      ]
     },
     "execution_count": 32,
     "metadata": {},
     "output_type": "execute_result"
    }
   ],
   "source": [
    "class eq_8P(eq_enbalance.definition, eq_5P.definition):\n",
    "    \"\"\"Eq. 8 in Priestley & Taylor (1972) using Penman's variable definitions.\"\"\"\n",
    "    soln = solve([eq_5P.lhs.subs(eq_enbalance.rhs, eq_enbalance.lhs) \n",
    "              - eq_5P.rhs], LE)\n",
    "    expr = Eq(LE, soln[LE])    \n",
    "eq_8P"
   ]
  },
  {
   "cell_type": "markdown",
   "metadata": {},
   "source": [
    "For $\\alpha_P=1$, it is actually equivalent to the Penman equation if $f(u)=0$:"
   ]
  },
  {
   "cell_type": "code",
   "execution_count": 33,
   "metadata": {},
   "outputs": [
    {
     "data": {
      "text/latex": [
       "$$LE = \\frac{\\Delta \\left(- G + R\\right)}{\\Delta + \\gamma_P}$$"
      ],
      "text/plain": [
       "     Δ_eTa⋅(-G + R)\n",
       "LE = ──────────────\n",
       "      Δ_eTa + γ_P  "
      ]
     },
     "execution_count": 33,
     "metadata": {},
     "output_type": "execute_result"
    }
   ],
   "source": [
    "eq_16.subs({f_u: 0})"
   ]
  },
  {
   "cell_type": "code",
   "execution_count": 34,
   "metadata": {},
   "outputs": [
    {
     "data": {
      "text/latex": [
       "$$LE = \\frac{\\Delta \\left(- G + R\\right)}{\\Delta + \\gamma_P}$$"
      ],
      "text/plain": [
       "     Δ_eTa⋅(-G + R)\n",
       "LE = ──────────────\n",
       "      Δ_eTa + γ_P  "
      ]
     },
     "execution_count": 34,
     "metadata": {},
     "output_type": "execute_result"
    }
   ],
   "source": [
    "eq_8P.subs({alpha_P: 1})"
   ]
  },
  {
   "cell_type": "markdown",
   "metadata": {},
   "source": [
    "# Some plots\n",
    "Before we can generate any plottable data, we need to know what variables need to be computed/provided. For this purpose we will import a function (extract_variables) from essm that lists all free variables in an expression:"
   ]
  },
  {
   "cell_type": "code",
   "execution_count": 35,
   "metadata": {},
   "outputs": [],
   "source": [
    "from essm.variables.utils import extract_variables"
   ]
  },
  {
   "cell_type": "markdown",
   "metadata": {},
   "source": [
    "For convenience, we will create a dictionary with all default values defined for the different variables:"
   ]
  },
  {
   "cell_type": "code",
   "execution_count": 36,
   "metadata": {},
   "outputs": [],
   "source": [
    "# Copy default values into cdict:\n",
    "cdict = Variable.__defaults__.copy()"
   ]
  },
  {
   "cell_type": "markdown",
   "metadata": {},
   "source": [
    "Now we can substitute all default values into the equation we want to plot and then use `extract_variables` to list the remaining unknowns:"
   ]
  },
  {
   "cell_type": "code",
   "execution_count": 37,
   "metadata": {},
   "outputs": [
    {
     "data": {
      "text/latex": [
       "$$\\left\\{\\Delta, G, LE, R, \\alpha, \\gamma_P\\right\\}$$"
      ],
      "text/plain": [
       "{Δ_eTa, G, LE, R, α_P, γ_P}"
      ]
     },
     "execution_count": 37,
     "metadata": {},
     "output_type": "execute_result"
    }
   ],
   "source": [
    "extract_variables(eq_8P.subs(cdict))\n"
   ]
  },
  {
   "cell_type": "markdown",
   "metadata": {},
   "source": [
    "So to calculate $E$ using eq_8P, we can prescribe $R$, $G$, and $\\alpha$ (=1.26 according to the paper), but we still need to provide equations for $\\Delta_e$ and $\\gamma$. For the former, we will use Eq. B5 in Schymanski et al. (2017) "
   ]
  },
  {
   "cell_type": "code",
   "execution_count": 38,
   "metadata": {},
   "outputs": [
    {
     "name": "stderr",
     "output_type": "stream",
     "text": [
      "/home/stan/Programs/essm/essm/variables/_core.py:87: UserWarning: \"__main__:T_a\" will be overridden by \"__main__:<class '__main__.T_a'>\"\n",
      "  instance[expr] = instance\n"
     ]
    },
    {
     "data": {
      "text/latex": [
       "$$e_a = p_1 e^{- \\frac{L M_w \\left(- \\frac{1}{p_2} + \\frac{1}{T_a}\\right)}{R_{mol}}}$$"
      ],
      "text/plain": [
       "                     ⎛    1     1 ⎞ \n",
       "            -L_E⋅M_w⋅⎜- ───── + ──⎟ \n",
       "                     ⎝  p_CC2   Tₐ⎠ \n",
       "            ────────────────────────\n",
       "                     R_mol          \n",
       "eₐ = p_CC1⋅ℯ                        "
      ]
     },
     "execution_count": 38,
     "metadata": {},
     "output_type": "execute_result"
    }
   ],
   "source": [
    "from essm.variables.physics.thermodynamics import M_w, R_mol\n",
    "    \n",
    "class T_a(Variable):\n",
    "    \"\"\"Air temperature\"\"\"\n",
    "    unit = kelvin\n",
    "\n",
    "\n",
    "class eq_ea(Equation):\n",
    "    \"\"\"Clausius-Clapeyron saturation vapour pressure as function of T_a.\n",
    "\n",
    "    (Eq. B3 in :cite:`hartmann_global_1994`)\n",
    "    \"\"\"\n",
    "\n",
    "    class p_CC1(Variable):\n",
    "        \"\"\"Internal parameter of eq_Pwl.\"\"\"\n",
    "\n",
    "        name = 'p_CC1'\n",
    "        unit = pascal\n",
    "        domain = 'real'\n",
    "        latex_name = 'p_1'\n",
    "        default = 611.\n",
    "\n",
    "    class p_CC2(Variable):\n",
    "        \"\"\"Internal parameter of eq_Pwl.\"\"\"\n",
    "\n",
    "        name = 'p_CC2'\n",
    "        unit = kelvin\n",
    "        domain = 'real'\n",
    "        latex_name = 'p_2'\n",
    "        default = 273.\n",
    "\n",
    "    expr = Eq(\n",
    "        e_a, p_CC1 * e ** (-M_w * L_E * (1 / T_a - 1 / p_CC2) / R_mol))\n",
    "\n",
    "eq_ea"
   ]
  },
  {
   "cell_type": "markdown",
   "metadata": {},
   "source": [
    "We will now differentiate with respect to $T_a$, in order to define $\\Delta$:"
   ]
  },
  {
   "cell_type": "code",
   "execution_count": 39,
   "metadata": {},
   "outputs": [
    {
     "data": {
      "text/latex": [
       "$$\\Delta = \\frac{L M_w p_1 e^{- \\frac{L M_w \\left(- \\frac{1}{p_2} + \\frac{1}{T_a}\\right)}{R_{mol}}}}{R_{mol} T_a^{2}}$$"
      ],
      "text/plain": [
       "                                ⎛    1     1 ⎞ \n",
       "                       -L_E⋅M_w⋅⎜- ───── + ──⎟ \n",
       "                                ⎝  p_CC2   Tₐ⎠ \n",
       "                       ────────────────────────\n",
       "                                R_mol          \n",
       "        L_E⋅M_w⋅p_CC1⋅ℯ                        \n",
       "Δ_eTa = ───────────────────────────────────────\n",
       "                               2               \n",
       "                       R_mol⋅Tₐ                "
      ]
     },
     "execution_count": 39,
     "metadata": {},
     "output_type": "execute_result"
    }
   ],
   "source": [
    "class eq_Delta_eTa(eq_ea.definition):\n",
    "    \"\"\"de_a/dT_a\"\"\"\n",
    "    expr = Eq(Delta_eTa, diff(eq_ea.rhs, T_a))\n",
    "    \n",
    "eq_Delta_eTa"
   ]
  },
  {
   "cell_type": "markdown",
   "metadata": {},
   "source": [
    "For $\\gamma$, we will use the definition provided by Monteith & Unsworth (2013): \n",
    "$$\\gamma = \\frac{c_p P}{0.622 L}$$"
   ]
  },
  {
   "cell_type": "code",
   "execution_count": 40,
   "metadata": {},
   "outputs": [
    {
     "name": "stderr",
     "output_type": "stream",
     "text": [
      "/home/stan/Programs/essm/essm/variables/_core.py:87: UserWarning: \"essm.variables.physics.thermodynamics:P_a\" will be overridden by \"__main__:<class '__main__.P_a'>\"\n",
      "  instance[expr] = instance\n"
     ]
    },
    {
     "data": {
      "text/latex": [
       "$$\\gamma_P = \\frac{P_a c_{pa}}{L \\epsilon}$$"
      ],
      "text/plain": [
       "       Pₐ⋅c_pa \n",
       "γ_P = ─────────\n",
       "      L_E⋅p_eps"
      ]
     },
     "execution_count": 40,
     "metadata": {},
     "output_type": "execute_result"
    }
   ],
   "source": [
    "class P_a(Variable):\n",
    "    \"\"\"Air pressure\"\"\"\n",
    "    unit = pascal\n",
    "    \n",
    "class eq_gamma(Equation):\n",
    "    \"\"\"Psychrometric constant as defined by Monteith and Unsworth (2013)\"\"\"\n",
    "    \n",
    "    class p_eps(Variable):\n",
    "        \"\"\"Internal parameter of eq_gamma.\"\"\"\n",
    "\n",
    "        unit = 1/1\n",
    "        domain = 'real'\n",
    "        latex_name = r\"\\epsilon\"\n",
    "        default = 0.622\n",
    "    \n",
    "    expr = Eq(gamma_P, c_pa * P_a / (p_eps * L_E))\n",
    "    \n",
    "eq_gamma"
   ]
  },
  {
   "cell_type": "markdown",
   "metadata": {},
   "source": [
    "Now, we will define a function to help us plotting the values of an expression:"
   ]
  },
  {
   "cell_type": "code",
   "execution_count": 41,
   "metadata": {},
   "outputs": [],
   "source": [
    "import matplotlib.pyplot as plt\n",
    "from sympy import latex\n",
    "from numpy import arange\n",
    "from essm.variables.units import derive_unit, SI, Quantity\n",
    "from essm.variables.utils import markdown\n",
    "def plot_expr(expr, xvar, yvar, xmin, xmax, clf=True):\n",
    "    '''Plot expression as function for variable from xmin to xmax.'''\n",
    "    \n",
    "    if clf:\n",
    "        plt.close\n",
    "        plt.clf\n",
    "    xstep = (xmax - xmin)/100\n",
    "    xvals = arange(xmin, xmax, xstep)\n",
    "    yvals = [expr.subs(xvar, dummy) for dummy in xvals]\n",
    "    try:\n",
    "        plt.plot(xvals, yvals)\n",
    "        plt.xlabel('$'+latex(xvar)+'$' + ' (' + markdown(xvar.definition.unit) + ')')\n",
    "        plt.ylabel('$'+latex(yvar)+'$' + ' (' + markdown(yvar.definition.unit) + ')')\n",
    "        plt.show()\n",
    "    except Exception as e1:\n",
    "        print yvals\n",
    "        print e1"
   ]
  },
  {
   "cell_type": "code",
   "execution_count": 42,
   "metadata": {},
   "outputs": [
    {
     "data": {
      "image/png": "[encoded data removed]",
      "text/plain": [
       "<Figure size 432x288 with 1 Axes>"
      ]
     },
     "metadata": {},
     "output_type": "display_data"
    }
   ],
   "source": [
    "# Plotting the saturation vapour pressure curve\n",
    "cdict = Variable.__defaults__.copy()    \n",
    "plot_expr(eq_ea.rhs.subs(cdict), T_a, e_a, 280., 310., clf=True)"
   ]
  },
  {
   "cell_type": "markdown",
   "metadata": {},
   "source": [
    "Now, we will plot eq_8P as a function of air temperature, by substituting eq_Delta_eTa and eq_gamma into eq_8P:"
   ]
  },
  {
   "cell_type": "code",
   "execution_count": 43,
   "metadata": {},
   "outputs": [
    {
     "data": {
      "text/latex": [
       "$$LE = \\frac{\\Delta \\alpha \\left(- G + R\\right)}{\\Delta + \\gamma_P}$$"
      ],
      "text/plain": [
       "     Δ_eTa⋅α_P⋅(-G + R)\n",
       "LE = ──────────────────\n",
       "        Δ_eTa + γ_P    "
      ]
     },
     "metadata": {},
     "output_type": "display_data"
    },
    {
     "data": {
      "text/latex": [
       "$$\\Delta = \\frac{L M_w p_1 e^{- \\frac{L M_w \\left(- \\frac{1}{p_2} + \\frac{1}{T_a}\\right)}{R_{mol}}}}{R_{mol} T_a^{2}}$$"
      ],
      "text/plain": [
       "                                ⎛    1     1 ⎞ \n",
       "                       -L_E⋅M_w⋅⎜- ───── + ──⎟ \n",
       "                                ⎝  p_CC2   Tₐ⎠ \n",
       "                       ────────────────────────\n",
       "                                R_mol          \n",
       "        L_E⋅M_w⋅p_CC1⋅ℯ                        \n",
       "Δ_eTa = ───────────────────────────────────────\n",
       "                               2               \n",
       "                       R_mol⋅Tₐ                "
      ]
     },
     "metadata": {},
     "output_type": "display_data"
    },
    {
     "data": {
      "text/latex": [
       "$$\\gamma_P = \\frac{P_a c_{pa}}{L \\epsilon}$$"
      ],
      "text/plain": [
       "       Pₐ⋅c_pa \n",
       "γ_P = ─────────\n",
       "      L_E⋅p_eps"
      ]
     },
     "metadata": {},
     "output_type": "display_data"
    },
    {
     "data": {
      "text/latex": [
       "$$\\left\\{G, LE, P_a, R, T_a, \\alpha\\right\\}$$"
      ],
      "text/plain": [
       "{G, LE, Pₐ, R, Tₐ, α_P}"
      ]
     },
     "execution_count": 43,
     "metadata": {},
     "output_type": "execute_result"
    }
   ],
   "source": [
    "display(eq_8P)\n",
    "display(eq_Delta_eTa)\n",
    "display(eq_gamma)\n",
    "extract_variables(eq_8P.subs({Delta_eTa: eq_Delta_eTa.rhs, gamma_P: eq_gamma.rhs}).subs(cdict))"
   ]
  },
  {
   "cell_type": "markdown",
   "metadata": {},
   "source": [
    "So we need to prescribe $G$, $P_a$, $R$, $T_a$ and $\\alpha$ to plot LE using eq_8P."
   ]
  },
  {
   "cell_type": "code",
   "execution_count": 44,
   "metadata": {},
   "outputs": [
    {
     "data": {
      "image/png": "[encoded data removed]",
      "text/plain": [
       "<Figure size 432x288 with 1 Axes>"
      ]
     },
     "metadata": {},
     "output_type": "display_data"
    }
   ],
   "source": [
    "vdict = cdict.copy()\n",
    "vdict[G] = 0\n",
    "vdict[R] = 500\n",
    "vdict[P_a] = 101325\n",
    "vdict[alpha_P] = 1.26\n",
    "vdict[gamma_P] = eq_gamma.rhs.subs(vdict)\n",
    "vdict[Delta_eTa] = eq_Delta_eTa.rhs.subs(vdict)\n",
    "plot_expr(eq_8P.rhs.subs(vdict), T_a, LE, 280., 310., clf=True)"
   ]
  },
  {
   "cell_type": "code",
   "execution_count": 45,
   "metadata": {},
   "outputs": [
    {
     "data": {
      "text/latex": [
       "$$\\frac{67.1554892053284 f_u \\left(e_a - e_d\\right) + \\frac{4.43960409040517 \\cdot 10^{17} e^{- \\frac{5304.00487246815}{T_a}}}{T_a^{2}}}{67.1554892053284 + \\frac{887920818081035.0 e^{- \\frac{5304.00487246815}{T_a}}}{T_a^{2}}}$$"
      ],
      "text/plain": [
       "                                                       -5304.00487246815 \n",
       "                                                       ──────────────────\n",
       "                                                               Tₐ        \n",
       "                                 4.43960409040517e+17⋅ℯ                  \n",
       "67.1554892053284⋅fᵤ⋅(eₐ - e_d) + ────────────────────────────────────────\n",
       "                                                     2                   \n",
       "                                                   Tₐ                    \n",
       "─────────────────────────────────────────────────────────────────────────\n",
       "                                               -5304.00487246815         \n",
       "                                               ──────────────────        \n",
       "                                                       Tₐ                \n",
       "                            887920818081035.0⋅ℯ                          \n",
       "         67.1554892053284 + ─────────────────────────────────────        \n",
       "                                               2                         \n",
       "                                             Tₐ                          "
      ]
     },
     "execution_count": 45,
     "metadata": {},
     "output_type": "execute_result"
    }
   ],
   "source": [
    "eq_16.rhs.subs({Delta_eTa: eq_Delta_eTa.rhs}).subs(vdict)"
   ]
  },
  {
   "cell_type": "markdown",
   "metadata": {},
   "source": [
    "In order to compute values for eq_16, we need to provide information about $e_a$, $e_d$, $f_u$ and $T_a$. What are their meanings again?"
   ]
  },
  {
   "cell_type": "code",
   "execution_count": 46,
   "metadata": {},
   "outputs": [
    {
     "data": {
      "text/html": [
       "<table><tr><td>Symbol</td><td>Name</td><td>Description</td><td>Default value</td><td>Units</td></tr><tr><td>$e_a$</td><td>e_a</td><td>Saturation vapour pressure at air temperature</td><td>-</td><td>Pa</td></tr><tr><td>$e_d$</td><td>e_d</td><td>Saturation vapour pressure at dew point</td><td>-</td><td>Pa</td></tr><tr><td>$f_u$</td><td>f_u</td><td>Wind function in Penman approach, f(u) adapted to energetic units</td><td>-</td><td>m s$^{-1}$</td></tr><tr><td>$T_a$</td><td>T_a</td><td>Air temperature</td><td>-</td><td>K</td></tr></table>"
      ],
      "text/plain": [
       "[('Symbol', 'Name', 'Description', 'Default value', 'Units'),\n",
       " ('$e_a$', 'e_a', 'Saturation vapour pressure at air temperature', '-', 'Pa'),\n",
       " ('$e_d$', 'e_d', 'Saturation vapour pressure at dew point', '-', 'Pa'),\n",
       " ('$f_u$',\n",
       "  'f_u',\n",
       "  'Wind function in Penman approach, f(u) adapted to energetic units',\n",
       "  '-',\n",
       "  'm s$^{-1}$'),\n",
       " ('$T_a$', 'T_a', 'Air temperature', '-', 'K')]"
      ]
     },
     "execution_count": 46,
     "metadata": {},
     "output_type": "execute_result"
    }
   ],
   "source": [
    "generate_metadata_table([e_a, e_d, f_u, T_a])"
   ]
  },
  {
   "cell_type": "code",
   "execution_count": 47,
   "metadata": {},
   "outputs": [
    {
     "data": {
      "text/latex": [
       "$$167405731976.233 e^{- \\frac{5304.00487246815}{T_a}}$$"
      ],
      "text/plain": [
       "                  -5304.00487246815 \n",
       "                  ──────────────────\n",
       "                          Tₐ        \n",
       "167405731976.233⋅ℯ                  "
      ]
     },
     "execution_count": 47,
     "metadata": {},
     "output_type": "execute_result"
    }
   ],
   "source": [
    "# Saturation vapour pressure at air temperature:\n",
    "vdict[e_a] = eq_ea.rhs.subs(vdict)\n",
    "vdict[e_a]"
   ]
  },
  {
   "cell_type": "code",
   "execution_count": 48,
   "metadata": {},
   "outputs": [],
   "source": [
    "# e_d is the actual vapour pressure, i.e. somewhere below e_a:\n",
    "vdict[e_d] = 0.5 * vdict[e_a]"
   ]
  },
  {
   "cell_type": "markdown",
   "metadata": {},
   "source": [
    "Now we only need $f_u$ and $T_a$."
   ]
  },
  {
   "cell_type": "code",
   "execution_count": 49,
   "metadata": {},
   "outputs": [
    {
     "data": {
      "text/latex": [
       "$$475.632786250792$$"
      ],
      "text/plain": [
       "475.632786250792"
      ]
     },
     "execution_count": 49,
     "metadata": {},
     "output_type": "execute_result"
    }
   ],
   "source": [
    "eq_8P.rhs.subs({Delta_eTa: eq_Delta_eTa.rhs}).subs(vdict).subs({T_a: 300})"
   ]
  },
  {
   "cell_type": "code",
   "execution_count": 50,
   "metadata": {},
   "outputs": [
    {
     "data": {
      "image/png": "[encoded data removed]",
      "text/plain": [
       "<Figure size 432x288 with 1 Axes>"
      ]
     },
     "metadata": {},
     "output_type": "display_data"
    }
   ],
   "source": [
    "plot_expr(eq_16.rhs.subs({Delta_eTa: eq_Delta_eTa.rhs}).subs(vdict).subs({T_a: 300}), f_u, LE, 1e-6, 1, clf=True)"
   ]
  },
  {
   "cell_type": "markdown",
   "metadata": {},
   "source": [
    "With a $f_u$ value of 0.2 m/s, we would get close to the 475 W/m2 of the PT equation."
   ]
  },
  {
   "cell_type": "code",
   "execution_count": 51,
   "metadata": {},
   "outputs": [
    {
     "data": {
      "text/latex": [
       "$$463.516620292175$$"
      ],
      "text/plain": [
       "463.516620292175"
      ]
     },
     "execution_count": 51,
     "metadata": {},
     "output_type": "execute_result"
    }
   ],
   "source": [
    "vdict[f_u] = 0.2\n",
    "eq_16.rhs.subs({Delta_eTa: eq_Delta_eTa.rhs}).subs(vdict).subs({T_a: 300})"
   ]
  },
  {
   "cell_type": "markdown",
   "metadata": {},
   "source": [
    "## Plots of multiple functions"
   ]
  },
  {
   "cell_type": "code",
   "execution_count": 52,
   "metadata": {},
   "outputs": [],
   "source": [
    "def plot_expr2(xvar, ylvar, xmin, xmax, yldata, yrdata=[],\n",
    "               yrvar=None, clf=True, npoints=100):\n",
    "    '''\n",
    "    Plot expression as function for variable from xmin to xmax.\n",
    "    Example:\n",
    "    vdict = cdict.copy()\n",
    "    vdict[G] = 0\n",
    "    vdict[R] = 500\n",
    "    vdict[P_a] = 101325\n",
    "    vdict[alpha_P] = 1.26\n",
    "    vdict[gamma_P] = eq_gamma.rhs.subs(vdict)\n",
    "    vdict[Delta_eTa] = eq_Delta_eTa.rhs.subs(vdict)\n",
    "    vdict[e_a] = eq_ea.rhs.subs(vdict)\n",
    "    vdict[e_d] = 0.5 * vdict[e_a]\n",
    "    vdict[f_u] = 0.2\n",
    "    expr1 = eq_16.rhs.subs(vdict)\n",
    "    expr2 = eq_8P.rhs.subs(vdict)\n",
    "    expr3 = vdict[Delta_eTa]\n",
    "    xvar = T_a\n",
    "    ylvar = LE\n",
    "    xmin = 273.\n",
    "    xmax = 320.\n",
    "    lefty = [(expr1, 'eq_16'), (expr2, 'eq_8P')]\n",
    "    righty = [(expr3, Delta_eTa.name)]\n",
    "    plot_expr2(xvar, ylvar, xmin, xmax, lefty, yrdata=righty, yrvar = Delta_eTa)\n",
    "    '''\n",
    "    linestyles = ['-', '--', '-.', ':']\n",
    "    if clf:\n",
    "        plt.close\n",
    "        plt.clf\n",
    "    if hasattr(xvar, 'definition'): \n",
    "        xlabel = '$'+latex(xvar)+'$'+ ' (' + markdown(derive_unit(xvar)) + ')'\n",
    "    else: \n",
    "        xlabel = xvar\n",
    "    if hasattr(ylvar, 'definition'): \n",
    "        yllabel = '$'+latex(ylvar)+'$'+ ' (' + markdown(derive_unit(ylvar)) + ')'\n",
    "    else: \n",
    "        yllabel = ylvar       \n",
    "    \n",
    "    xstep = (xmax - xmin)/npoints\n",
    "    xvals = arange(xmin, xmax, xstep)\n",
    "       \n",
    "    fig, ax1 = plt.subplots()\n",
    "    color = 'black'\n",
    "    ax1.set_xlabel(xlabel)\n",
    "    ax1.set_ylabel(yllabel, color=color)\n",
    "    i = 0\n",
    "    for (expr1, y1var) in yldata:\n",
    "        linestyle = linestyles[i]\n",
    "        i= i + 1\n",
    "        try: \n",
    "            y1vals = [expr1.subs(xvar, dummy).n() for dummy in xvals]                   \n",
    "            ax1.plot(xvals, y1vals, color=color, linestyle=linestyle, label=y1var)\n",
    "        except Exception as e1:\n",
    "            print([expr1.subs(xvar, dummy) for dummy in xvals])\n",
    "            print(e1)\n",
    "        ax1.tick_params(axis='y', labelcolor=color)\n",
    "    plt.legend()\n",
    "    \n",
    "    if yrdata:\n",
    "        if hasattr(ylvar, 'definition'): \n",
    "            yrlabel = '$'+latex(yrvar)+'$'+ ' (' + markdown(derive_unit(yrvar)) + ')'\n",
    "        else: \n",
    "            yrlabel = yrvar       \n",
    "        ax2 = ax1.twinx()  # instantiate a second axes that shares the same x-axis\n",
    "        color = 'tab:blue'\n",
    "        ax2.set_ylabel(yrlabel, color=color)\n",
    "        i = 0\n",
    "        \n",
    "        for (expr2, y2var) in yrdata:\n",
    "            linestyle = linestyles[i]\n",
    "            i= i + 1\n",
    "            try:\n",
    "                y2vals = [expr2.subs(xvar, dummy).n() for dummy in xvals]\n",
    "                ax2.plot(xvals, y2vals, color=color, linestyle=linestyle, label=y2var)\n",
    "            except Exception as e1:\n",
    "                print([expr2.subs(xvar, dummy).n() for dummy in xvals])\n",
    "                print(e1)\n",
    "            ax2.tick_params(axis='y', labelcolor=color)\n",
    "            leg=ax2.legend(loc='lower right')\n",
    "            ax2.add_artist(leg);\n",
    "\n",
    "    fig.tight_layout()  # otherwise the right y-label is slightly clipped\n",
    "    plt.show()"
   ]
  },
  {
   "cell_type": "code",
   "execution_count": 53,
   "metadata": {},
   "outputs": [
    {
     "data": {
      "image/png": "[encoded data removed]",
      "text/plain": [
       "<Figure size 432x288 with 2 Axes>"
      ]
     },
     "metadata": {},
     "output_type": "display_data"
    }
   ],
   "source": [
    "# Example\n",
    "vdict = cdict.copy()\n",
    "vdict[G] = 0\n",
    "vdict[R] = 500\n",
    "vdict[P_a] = 101325\n",
    "vdict[alpha_P] = 1.26\n",
    "vdict[gamma_P] = eq_gamma.rhs.subs(vdict)\n",
    "vdict[Delta_eTa] = eq_Delta_eTa.rhs.subs(vdict)\n",
    "vdict[e_a] = eq_ea.rhs.subs(vdict)\n",
    "vdict[e_d] = 0.5 * vdict[e_a]\n",
    "vdict[f_u] = 0.2\n",
    "expr1 = eq_16.rhs.subs(vdict)\n",
    "expr2 = eq_8P.rhs.subs(vdict)\n",
    "expr3 = vdict[Delta_eTa]\n",
    "xvar = T_a\n",
    "ylvar = LE\n",
    "xmin = 273.\n",
    "xmax = 320.\n",
    "lefty = [(expr1, 'eq_16'), (expr2, 'eq_8P')]\n",
    "righty = [(expr3, Delta_eTa.name)]\n",
    "plot_expr2(xvar, ylvar, xmin, xmax, lefty, yrdata=righty, yrvar = Delta_eTa)"
   ]
  },
  {
   "cell_type": "code",
   "execution_count": 54,
   "metadata": {},
   "outputs": [
    {
     "data": {
      "image/png": "[encoded data removed]",
      "text/plain": [
       "<Figure size 432x288 with 1 Axes>"
      ]
     },
     "metadata": {},
     "output_type": "display_data"
    }
   ],
   "source": [
    "vdict = cdict.copy()\n",
    "vdict[G] = 0\n",
    "vdict[R] = 500\n",
    "vdict[P_a] = 101325\n",
    "vdict[alpha_P] = 1.26\n",
    "vdict[f_u] = 0.2\n",
    "vdict[e_a] = eq_ea.rhs.subs(vdict)\n",
    "vdict[e_d] = 0.5 * vdict[e_a]\n",
    "vdict[gamma_P] = eq_gamma.rhs.subs(vdict)\n",
    "vdict[Delta_eTa] = eq_Delta_eTa.rhs.subs(vdict)\n",
    "expr1 = eq_16.rhs.subs(vdict)\n",
    "expr2 = eq_8P.rhs.subs(vdict)\n",
    "xvar = T_a\n",
    "ylvar = LE\n",
    "xmin = 273.\n",
    "xmax = 320.\n",
    "lefty = [(expr1, 'Penman'), (expr2, 'corr. PT')]\n",
    "plot_expr2(xvar, ylvar, xmin, xmax, lefty)"
   ]
  },
  {
   "cell_type": "code",
   "execution_count": 55,
   "metadata": {},
   "outputs": [
    {
     "data": {
      "image/png": "[encoded data removed]",
      "text/plain": [
       "<Figure size 432x288 with 1 Axes>"
      ]
     },
     "metadata": {},
     "output_type": "display_data"
    }
   ],
   "source": [
    "vdict = cdict.copy()\n",
    "vdict[G] = 0\n",
    "vdict[R] = 200\n",
    "vdict[P_a] = 101325\n",
    "vdict[alpha_P] = 1.26\n",
    "vdict[gamma_P] = eq_gamma.rhs.subs(vdict)\n",
    "vdict[Delta_eTa] = eq_Delta_eTa.rhs.subs(vdict)\n",
    "vdict[e_a] = eq_ea.rhs.subs(vdict)\n",
    "vdict[e_d] = 0.5 * vdict[e_a]\n",
    "vdict[f_u] = 0.1\n",
    "expr1 = eq_16.rhs.subs(vdict)\n",
    "expr2 = eq_8P.rhs.subs(vdict)\n",
    "xvar = T_a\n",
    "ylvar = LE\n",
    "xmin = 273.\n",
    "xmax = 320.\n",
    "lefty = [(expr1, 'Penman'), (expr2, 'corr. PT')]\n",
    "plot_expr2(xvar, ylvar, xmin, xmax, lefty)"
   ]
  },
  {
   "cell_type": "markdown",
   "metadata": {},
   "source": [
    "**The temperature sensitivies of the PT-equation and the PM equation at constant $f_u$ and relative humidity are different, and to get as close as possible to the PT equation, the value of $f_u$ needs to be adjusted to the radiation level.**"
   ]
  },
  {
   "cell_type": "markdown",
   "metadata": {},
   "source": [
    "# Literature\n",
    "\n",
    "Monteith, J. L. and Unsworth, M. H.: Principles of environmental physics: plants, animals, and the atmosphere, 4th ed., Elsevier/Academic Press, Amsterdam ; Boston., 2013.\n",
    "\n",
    "Penman, H. L.: Natural Evaporation from Open Water, Bare Soil and Grass, Proceedings of the Royal Society of London. Series A, Mathematical and Physical Sciences, 193(1032), 120–145, doi:10.1098/rspa.1948.0037, 1948.\n",
    "\n",
    "Priestley, C. H. B. and Taylor, R. J.: On the Assessment of Surface Heat Flux and Evaporation Using Large-Scale Parameters, Monthly Weather Review, 100(2), 81–92, doi:10.1175/1520-0493(1972)100<0081:OTAOSH>2.3.CO;2, 1972.\n"
   ]
  },
  {
   "cell_type": "code",
   "execution_count": null,
   "metadata": {},
   "outputs": [],
   "source": []
  }
 ],
 "metadata": {
  "celltoolbar": "Raw Cell Format",
  "kernelspec": {
   "display_name": "Python 3",
   "language": "python",
   "name": "python3"
  },
  "language_info": {
   "codemirror_mode": {
    "name": "ipython",
    "version": 2
   },
   "file_extension": ".py",
   "mimetype": "text/x-python",
   "name": "python",
   "nbconvert_exporter": "python",
   "pygments_lexer": "ipython2",
   "version": "2.7.15"
  },
  "nav_menu": {},
  "toc": {
   "base_numbering": 1,
   "nav_menu": {},
   "number_sections": true,
   "sideBar": true,
   "skip_h1_title": false,
   "title_cell": "Table of Contents",
   "title_sidebar": "Contents",
   "toc_cell": false,
   "toc_position": {
    "height": "calc(100% - 180px)",
    "left": "10px",
    "top": "150px",
    "width": "221px"
   },
   "toc_section_display": "block",
   "toc_window_display": true
  }
 },
 "nbformat": 4,
 "nbformat_minor": 2
}
